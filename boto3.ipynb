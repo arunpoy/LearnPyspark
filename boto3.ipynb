{
 "cells": [
  {
   "cell_type": "code",
   "execution_count": 1,
   "metadata": {},
   "outputs": [],
   "source": [
    "import boto3"
   ]
  },
  {
   "cell_type": "code",
   "execution_count": 2,
   "metadata": {},
   "outputs": [],
   "source": [
    "s3 = boto3.resource(\"s3\")\n",
    "bucket = s3.Bucket('zaur-test')"
   ]
  },
  {
   "cell_type": "code",
   "execution_count": 3,
   "metadata": {},
   "outputs": [
    {
     "name": "stdout",
     "output_type": "stream",
     "text": [
      "s3.Bucket(name='zaur-test')\n"
     ]
    }
   ],
   "source": [
    "print(bucket)"
   ]
  },
  {
   "cell_type": "code",
   "execution_count": 4,
   "metadata": {},
   "outputs": [
    {
     "name": "stdout",
     "output_type": "stream",
     "text": [
      "['Acl', 'Cors', 'Lifecycle', 'LifecycleConfiguration', 'Logging', 'Notification', 'Object', 'Policy', 'RequestPayment', 'Tagging', 'Versioning', 'Website', '__class__', '__delattr__', '__dict__', '__dir__', '__doc__', '__eq__', '__format__', '__ge__', '__getattribute__', '__gt__', '__hash__', '__init__', '__init_subclass__', '__le__', '__lt__', '__module__', '__ne__', '__new__', '__reduce__', '__reduce_ex__', '__repr__', '__setattr__', '__sizeof__', '__str__', '__subclasshook__', '__weakref__', '_name', 'copy', 'create', 'creation_date', 'delete', 'delete_objects', 'download_file', 'download_fileobj', 'get_available_subresources', 'load', 'meta', 'multipart_uploads', 'name', 'object_versions', 'objects', 'put_object', 'upload_file', 'upload_fileobj', 'wait_until_exists', 'wait_until_not_exists']\n"
     ]
    }
   ],
   "source": [
    "print(dir(bucket))"
   ]
  },
  {
   "cell_type": "code",
   "execution_count": 6,
   "metadata": {},
   "outputs": [
    {
     "name": "stdout",
     "output_type": "stream",
     "text": [
      "i-0838940f0c1e0eb83\n",
      "i-0c0b6fdc1d13ec995\n",
      "i-09551f535a65def2f\n",
      "i-03bc2691a18419245\n",
      "i-0d5b1dec6e44db84c\n",
      "i-0b184ab7eee7c7f33\n",
      "i-0af8e4e60caa58212\n",
      "i-03923f8bd19b7a99d\n",
      "i-0925c7ea9e892cb0b\n",
      "i-0319f887480ebc5e3\n",
      "i-0b8f484d5d4e50eb5\n",
      "i-023cc646745506c34\n",
      "i-094debf67a3d47f3e\n",
      "i-0d98aeb07307e9595\n",
      "i-044872f0e21d71904\n",
      "i-09c6146617b0b5cbe\n",
      "i-0ee6a0af47f59a7ca\n",
      "i-0728a68bd456946c6\n",
      "i-0da3cc9554c581246\n",
      "i-0004776530584db9d\n",
      "i-063a9cc83332b041b\n",
      "i-0f722c633459f415d\n",
      "i-0b2199ea99d19f837\n"
     ]
    }
   ],
   "source": [
    "ec2client = boto3.client('ec2')\n",
    "response = ec2client.describe_instances()\n",
    "for reservation in response[\"Reservations\"]:\n",
    "    for instance in reservation[\"Instances\"]:\n",
    "        # This sample print will output entire Dictionary object\n",
    "        #print(instance)\n",
    "        # This will print will output the value of the Dictionary key 'InstanceId'\n",
    "        print(instance[\"InstanceId\"])"
   ]
  },
  {
   "cell_type": "code",
   "execution_count": 11,
   "metadata": {},
   "outputs": [],
   "source": [
    "ec2 = boto3.resource('ec2')\n",
    "filters = [\n",
    "        {\n",
    "            'Name': 'instance-state-name', \n",
    "            'Values': ['running']\n",
    "        }\n",
    "    ]\n",
    "instances = ec2.instances.filter(Filters=filters)\n",
    "\n",
    "# instantiate empty array\n",
    "RunningInstances = []"
   ]
  },
  {
   "cell_type": "code",
   "execution_count": 12,
   "metadata": {},
   "outputs": [
    {
     "name": "stdout",
     "output_type": "stream",
     "text": [
      "ec2.instancesCollection(ec2.ServiceResource(), ec2.Instance)\n"
     ]
    }
   ],
   "source": [
    "print(instances)"
   ]
  },
  {
   "cell_type": "code",
   "execution_count": 14,
   "metadata": {},
   "outputs": [
    {
     "name": "stdout",
     "output_type": "stream",
     "text": [
      "i-0838940f0c1e0eb83\n",
      "i-0c0b6fdc1d13ec995\n",
      "i-09551f535a65def2f\n",
      "i-03bc2691a18419245\n",
      "i-0d5b1dec6e44db84c\n",
      "i-0b184ab7eee7c7f33\n",
      "i-0af8e4e60caa58212\n",
      "i-03923f8bd19b7a99d\n",
      "i-0925c7ea9e892cb0b\n",
      "i-0319f887480ebc5e3\n",
      "i-0b8f484d5d4e50eb5\n",
      "i-023cc646745506c34\n",
      "i-094debf67a3d47f3e\n",
      "i-0d98aeb07307e9595\n",
      "i-044872f0e21d71904\n",
      "i-09c6146617b0b5cbe\n",
      "i-0ee6a0af47f59a7ca\n",
      "i-0728a68bd456946c6\n",
      "i-0da3cc9554c581246\n",
      "i-0004776530584db9d\n",
      "i-063a9cc83332b041b\n",
      "i-0f722c633459f415d\n",
      "i-0b2199ea99d19f837\n"
     ]
    }
   ],
   "source": [
    "for instance in instances:\n",
    "        # for each instance, append to array and print instance id\n",
    "        RunningInstances.append(instance.id)\n",
    "        print (instance.id)"
   ]
  },
  {
   "cell_type": "code",
   "execution_count": 15,
   "metadata": {},
   "outputs": [],
   "source": [
    "all_instances = ec2.instances.all()"
   ]
  },
  {
   "cell_type": "code",
   "execution_count": 16,
   "metadata": {},
   "outputs": [
    {
     "name": "stdout",
     "output_type": "stream",
     "text": [
      "ec2.instancesCollection(ec2.ServiceResource(), ec2.Instance)\n"
     ]
    }
   ],
   "source": [
    "print(all_instances)"
   ]
  },
  {
   "cell_type": "code",
   "execution_count": 28,
   "metadata": {},
   "outputs": [
    {
     "name": "stdout",
     "output_type": "stream",
     "text": [
      "[{'Endpoint': 'ec2.eu-north-1.amazonaws.com', 'RegionName': 'eu-north-1', 'OptInStatus': 'opt-in-not-required'}, {'Endpoint': 'ec2.ap-south-1.amazonaws.com', 'RegionName': 'ap-south-1', 'OptInStatus': 'opt-in-not-required'}, {'Endpoint': 'ec2.eu-west-3.amazonaws.com', 'RegionName': 'eu-west-3', 'OptInStatus': 'opt-in-not-required'}, {'Endpoint': 'ec2.eu-west-2.amazonaws.com', 'RegionName': 'eu-west-2', 'OptInStatus': 'opt-in-not-required'}, {'Endpoint': 'ec2.eu-west-1.amazonaws.com', 'RegionName': 'eu-west-1', 'OptInStatus': 'opt-in-not-required'}, {'Endpoint': 'ec2.ap-northeast-2.amazonaws.com', 'RegionName': 'ap-northeast-2', 'OptInStatus': 'opt-in-not-required'}, {'Endpoint': 'ec2.ap-northeast-1.amazonaws.com', 'RegionName': 'ap-northeast-1', 'OptInStatus': 'opt-in-not-required'}, {'Endpoint': 'ec2.sa-east-1.amazonaws.com', 'RegionName': 'sa-east-1', 'OptInStatus': 'opt-in-not-required'}, {'Endpoint': 'ec2.ca-central-1.amazonaws.com', 'RegionName': 'ca-central-1', 'OptInStatus': 'opt-in-not-required'}, {'Endpoint': 'ec2.ap-southeast-1.amazonaws.com', 'RegionName': 'ap-southeast-1', 'OptInStatus': 'opt-in-not-required'}, {'Endpoint': 'ec2.ap-southeast-2.amazonaws.com', 'RegionName': 'ap-southeast-2', 'OptInStatus': 'opt-in-not-required'}, {'Endpoint': 'ec2.eu-central-1.amazonaws.com', 'RegionName': 'eu-central-1', 'OptInStatus': 'opt-in-not-required'}, {'Endpoint': 'ec2.us-east-1.amazonaws.com', 'RegionName': 'us-east-1', 'OptInStatus': 'opt-in-not-required'}, {'Endpoint': 'ec2.us-east-2.amazonaws.com', 'RegionName': 'us-east-2', 'OptInStatus': 'opt-in-not-required'}, {'Endpoint': 'ec2.us-west-1.amazonaws.com', 'RegionName': 'us-west-1', 'OptInStatus': 'opt-in-not-required'}, {'Endpoint': 'ec2.us-west-2.amazonaws.com', 'RegionName': 'us-west-2', 'OptInStatus': 'opt-in-not-required'}]\n"
     ]
    }
   ],
   "source": [
    "ec2 = boto3.client('ec2')\n",
    "regions = ec2.describe_regions()\n",
    "\n",
    "print(regions['Regions'])"
   ]
  },
  {
   "cell_type": "code",
   "execution_count": 48,
   "metadata": {},
   "outputs": [
    {
     "name": "stdout",
     "output_type": "stream",
     "text": [
      "<class 'list'>\n",
      "eu-north-1\n",
      "ap-south-1\n",
      "eu-west-3\n",
      "eu-west-2\n",
      "eu-west-1\n",
      "ap-northeast-2\n",
      "ap-northeast-1\n",
      "sa-east-1\n",
      "ca-central-1\n",
      "ap-southeast-1\n",
      "ap-southeast-2\n",
      "eu-central-1\n",
      "us-east-1\n",
      "us-east-2\n",
      "us-west-1\n",
      "us-west-2\n"
     ]
    }
   ],
   "source": [
    "print(type(regions['Regions']))\n",
    "for region in regions['Regions']:\n",
    "    print (region.get('RegionName'))\n",
    "    "
   ]
  },
  {
   "cell_type": "code",
   "execution_count": 34,
   "metadata": {},
   "outputs": [
    {
     "name": "stdout",
     "output_type": "stream",
     "text": [
      "['eu-north-1', 'ap-south-1', 'eu-west-3', 'eu-west-2', 'eu-west-1', 'ap-northeast-2', 'ap-northeast-1', 'sa-east-1', 'ca-central-1', 'ap-southeast-1', 'ap-southeast-2', 'eu-central-1', 'us-east-1', 'us-east-2', 'us-west-1', 'us-west-2']\n"
     ]
    }
   ],
   "source": [
    "print([region['RegionName'] for region in regions['Regions']])"
   ]
  },
  {
   "cell_type": "code",
   "execution_count": 51,
   "metadata": {},
   "outputs": [
    {
     "name": "stdout",
     "output_type": "stream",
     "text": [
      "eu-north-1\n",
      "-----------------------\n",
      "ap-south-1\n",
      "-----------------------\n",
      "eu-west-3\n",
      "-----------------------\n",
      "eu-west-2\n",
      "-----------------------\n",
      "eu-west-1\n",
      "-----------------------\n",
      "ap-northeast-2\n",
      "-----------------------\n",
      "ap-northeast-1\n",
      "-----------------------\n",
      "sa-east-1\n",
      "-----------------------\n",
      "ca-central-1\n",
      "-----------------------\n",
      "ap-southeast-1\n",
      "-----------------------\n",
      "ap-southeast-2\n",
      "-----------------------\n",
      "eu-central-1\n",
      "-----------------------\n",
      "<class 'boto3.resources.factory.ec2.Instance'>\n",
      "i-02d1b8c8dbe8a0da0 running\n",
      "<class 'boto3.resources.factory.ec2.Instance'>\n",
      "i-08af2a588930ee2ca running\n",
      "<class 'boto3.resources.factory.ec2.Instance'>\n",
      "i-0588535b9734fd34e running\n",
      "<class 'boto3.resources.factory.ec2.Instance'>\n",
      "i-01342abbc87b964ca running\n",
      "<class 'boto3.resources.factory.ec2.Instance'>\n",
      "i-07d6fb682d0140efc running\n",
      "<class 'boto3.resources.factory.ec2.Instance'>\n",
      "i-0f638af33ac3328a4 running\n",
      "<class 'boto3.resources.factory.ec2.Instance'>\n",
      "i-0cbac5158f12f8491 running\n",
      "<class 'boto3.resources.factory.ec2.Instance'>\n",
      "i-0be5a4b243e25000b running\n",
      "<class 'boto3.resources.factory.ec2.Instance'>\n",
      "i-009ea220195ef8345 running\n",
      "<class 'boto3.resources.factory.ec2.Instance'>\n",
      "i-0eee24972ed52351b running\n",
      "<class 'boto3.resources.factory.ec2.Instance'>\n",
      "i-041b20e051eb5d3ee terminated\n",
      "<class 'boto3.resources.factory.ec2.Instance'>\n",
      "i-0f80827a8392f8bde terminated\n",
      "<class 'boto3.resources.factory.ec2.Instance'>\n",
      "i-074a0f01ad845f71f terminated\n",
      "us-east-1\n",
      "-----------------------\n",
      "<class 'boto3.resources.factory.ec2.Instance'>\n",
      "i-0838940f0c1e0eb83 running\n",
      "<class 'boto3.resources.factory.ec2.Instance'>\n",
      "i-0c0b6fdc1d13ec995 running\n",
      "<class 'boto3.resources.factory.ec2.Instance'>\n",
      "i-09551f535a65def2f running\n",
      "<class 'boto3.resources.factory.ec2.Instance'>\n",
      "i-03bc2691a18419245 running\n",
      "<class 'boto3.resources.factory.ec2.Instance'>\n",
      "i-0d5b1dec6e44db84c running\n",
      "<class 'boto3.resources.factory.ec2.Instance'>\n",
      "i-0b184ab7eee7c7f33 running\n",
      "<class 'boto3.resources.factory.ec2.Instance'>\n",
      "i-0af8e4e60caa58212 running\n",
      "<class 'boto3.resources.factory.ec2.Instance'>\n",
      "i-03923f8bd19b7a99d running\n",
      "<class 'boto3.resources.factory.ec2.Instance'>\n",
      "i-0925c7ea9e892cb0b running\n",
      "<class 'boto3.resources.factory.ec2.Instance'>\n",
      "i-0319f887480ebc5e3 running\n",
      "<class 'boto3.resources.factory.ec2.Instance'>\n",
      "i-0b8f484d5d4e50eb5 running\n",
      "<class 'boto3.resources.factory.ec2.Instance'>\n",
      "i-023cc646745506c34 running\n",
      "<class 'boto3.resources.factory.ec2.Instance'>\n",
      "i-094debf67a3d47f3e running\n",
      "<class 'boto3.resources.factory.ec2.Instance'>\n",
      "i-0d98aeb07307e9595 running\n",
      "<class 'boto3.resources.factory.ec2.Instance'>\n",
      "i-044872f0e21d71904 running\n",
      "<class 'boto3.resources.factory.ec2.Instance'>\n",
      "i-09c6146617b0b5cbe running\n",
      "<class 'boto3.resources.factory.ec2.Instance'>\n",
      "i-0ee6a0af47f59a7ca running\n",
      "<class 'boto3.resources.factory.ec2.Instance'>\n",
      "i-0728a68bd456946c6 running\n",
      "<class 'boto3.resources.factory.ec2.Instance'>\n",
      "i-0da3cc9554c581246 running\n",
      "<class 'boto3.resources.factory.ec2.Instance'>\n",
      "i-0004776530584db9d running\n",
      "<class 'boto3.resources.factory.ec2.Instance'>\n",
      "i-063a9cc83332b041b running\n",
      "<class 'boto3.resources.factory.ec2.Instance'>\n",
      "i-0f722c633459f415d running\n",
      "<class 'boto3.resources.factory.ec2.Instance'>\n",
      "i-0b2199ea99d19f837 running\n",
      "us-east-2\n",
      "-----------------------\n",
      "us-west-1\n",
      "-----------------------\n",
      "us-west-2\n",
      "-----------------------\n"
     ]
    }
   ],
   "source": [
    "for region in regions['Regions']:\n",
    "    ec2 = boto3.resource('ec2',region_name=region['RegionName'])\n",
    "    print(region['RegionName'])\n",
    "    print(\"-----------------------\")\n",
    "    for instance in ec2.instances.all():\n",
    "        print(type(instance))\n",
    "        print(instance.id,instance.state['Name'])\n",
    "    \n",
    "    \n",
    "    "
   ]
  },
  {
   "cell_type": "code",
   "execution_count": null,
   "metadata": {},
   "outputs": [],
   "source": []
  }
 ],
 "metadata": {
  "kernelspec": {
   "display_name": "Python 3.6",
   "language": "python",
   "name": "python36"
  },
  "language_info": {
   "codemirror_mode": {
    "name": "ipython",
    "version": 3
   },
   "file_extension": ".py",
   "mimetype": "text/x-python",
   "name": "python",
   "nbconvert_exporter": "python",
   "pygments_lexer": "ipython3",
   "version": "3.6.8"
  }
 },
 "nbformat": 4,
 "nbformat_minor": 4
}
